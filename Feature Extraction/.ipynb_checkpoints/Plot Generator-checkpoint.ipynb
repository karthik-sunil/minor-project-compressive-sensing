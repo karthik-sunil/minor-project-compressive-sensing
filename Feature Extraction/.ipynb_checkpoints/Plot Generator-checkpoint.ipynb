{
 "cells": [
  {
   "cell_type": "code",
   "execution_count": 3,
   "metadata": {},
   "outputs": [
    {
     "name": "stdout",
     "output_type": "stream",
     "text": [
      "/home/karthiksunil/Desktop/7th Sem/Minor Project/data/minor-project-compressive-sensing/Feature Extraction/DownSampled_10K_data set/DW4\n",
      "/home/karthiksunil/Desktop/7th Sem/Minor Project/data/minor-project-compressive-sensing/Feature Extraction/DownSampled_10K_data set/AAV3\n",
      "/home/karthiksunil/Desktop/7th Sem/Minor Project/data/minor-project-compressive-sensing/Feature Extraction/DownSampled_10K_data set/DW3\n",
      "/home/karthiksunil/Desktop/7th Sem/Minor Project/data/minor-project-compressive-sensing/Feature Extraction/DownSampled_10K_data set/AAV4\n"
     ]
    },
    {
     "data": {
      "text/plain": [
       "<Figure size 432x288 with 0 Axes>"
      ]
     },
     "metadata": {},
     "output_type": "display_data"
    }
   ],
   "source": [
    "import pandas as pd\n",
    "import matplotlib.pyplot as plt\n",
    "import os\n",
    "directory = r'/home/karthiksunil/Desktop/7th Sem/Minor Project/data/minor-project-compressive-sensing/Feature Extraction/DownSampled_10K_data set'\n",
    "for folder in os.scandir(directory):\n",
    "    subdirectory = folder.path\n",
    "    print(subdirectory)\n",
    "    subdirectory_plots = subdirectory+'/plots/'\n",
    "    for file in os.scandir(subdirectory):\n",
    "        data_path = ''\n",
    "        data_path = file.path\n",
    "        if data_path.endswith('.csv'):\n",
    "            df = pd.read_csv(data_path,header=None)\n",
    "            l = []\n",
    "            for v in df[0]:\n",
    "                l.append(v)\n",
    "            #    l.append(abs(v))\n",
    "            plt.plot(l)\n",
    "            figure_name = ''\n",
    "            s = data_path.split('/')[-1]\n",
    "            figure_name = subdirectory_plots +'/'+ s.replace('csv','png')\n",
    "            plt.savefig(figure_name,bbox_inches='tight')\n",
    "            plt.clf()\n",
    "        if data_path.split('/')[-1]=='Seismic Data':\n",
    "            seismic_subdir = data_path\n",
    "            seismic_subdir_plot = seismic_subdir +'/plots/'\n",
    "            #print(seismic_subdir_plot)\n",
    "            for seismic_file in os.scandir(seismic_subdir):\n",
    "                seismic_data_path = seismic_file.path\n",
    "                if seismic_data_path.endswith('csv'):\n",
    "                    df = pd.read_csv(seismic_data_path,header=None)\n",
    "                    l = []\n",
    "                    for v in df[0]:\n",
    "                        l.append(v)\n",
    "                    #    l.append(abs(v))\n",
    "                    plt.plot(l)\n",
    "                    s = seismic_data_path.split('/')[-1]\n",
    "                    seismic_figure_name = seismic_subdir_plot+'/'+s.replace('csv','png')\n",
    "                    plt.savefig(seismic_figure_name,bbox_inches='tight')\n",
    "                    plt.clf()\n",
    "                        \n",
    "        '''elif data_path.split('/')[-1] == 'Seismic Data':\n",
    "            for dat in os.scandir(data_path):\n",
    "                dat_path = dat.path\n",
    "                figure_name = data_path + '/plots/'+ dat_path.split('/')[-1]\n",
    "                print(dat_path)\n",
    "                df = pd.read_csv(dat_path,header=None)\n",
    "                l = []\n",
    "                for v in df[0]:\n",
    "                    l.append(v)\n",
    "                plt.plot(l)\n",
    "                figure_name = figure_name.replace('csv','png')\n",
    "                #print(figure_name)\n",
    "                plt.savefig(figure_name,bbox_inches='tight')\n",
    "                plt.clf()'''\n",
    "\n",
    "            "
   ]
  },
  {
   "cell_type": "code",
   "execution_count": null,
   "metadata": {},
   "outputs": [],
   "source": []
  },
  {
   "cell_type": "code",
   "execution_count": 1,
   "metadata": {},
   "outputs": [
    {
     "data": {
      "text/plain": [
       "\"buffer_size = 50 \\nfor i in range(len(l)-buffer_size+1):\\n    buffer =l[i:buffer_size+i]\\n    for v in buffer:\\n        print('*'*v)\""
      ]
     },
     "execution_count": 1,
     "metadata": {},
     "output_type": "execute_result"
    }
   ],
   "source": [
    "'''buffer_size = 50 \n",
    "for i in range(len(l)-buffer_size+1):\n",
    "    buffer =l[i:buffer_size+i]\n",
    "    for v in buffer:\n",
    "        print('*'*v)'''"
   ]
  },
  {
   "cell_type": "code",
   "execution_count": null,
   "metadata": {},
   "outputs": [],
   "source": []
  }
 ],
 "metadata": {
  "kernelspec": {
   "display_name": "Python 3.8.3 64-bit ('neuralnet': conda)",
   "language": "python",
   "name": "python38364bitneuralnetcondab96f87a952524cb1a2f43a859a2fadd8"
  },
  "language_info": {
   "codemirror_mode": {
    "name": "ipython",
    "version": 3
   },
   "file_extension": ".py",
   "mimetype": "text/x-python",
   "name": "python",
   "nbconvert_exporter": "python",
   "pygments_lexer": "ipython3",
   "version": "3.8.3"
  }
 },
 "nbformat": 4,
 "nbformat_minor": 2
}
